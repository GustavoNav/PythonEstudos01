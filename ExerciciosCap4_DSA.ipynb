{
  "metadata": {
    "language_info": {
      "codemirror_mode": {
        "name": "python",
        "version": 3
      },
      "file_extension": ".py",
      "mimetype": "text/x-python",
      "name": "python",
      "nbconvert_exporter": "python",
      "pygments_lexer": "ipython3",
      "version": "3.8"
    },
    "kernelspec": {
      "name": "python",
      "display_name": "Python (Pyodide)",
      "language": "python"
    },
    "colab": {
      "name": "ExerciciosCap4-DSA.ipynb",
      "provenance": [],
      "collapsed_sections": []
    }
  },
  "nbformat_minor": 0,
  "nbformat": 4,
  "cells": [
    {
      "cell_type": "code",
      "source": [
        "# Exercício 1 - Crie uma lista de 3 elementos e calcule a terceira potência de cada elemento.\n",
        "lista1 = [2,4,8]\n",
        "\n",
        "list(map(lambda x: x**3, lista1))"
      ],
      "metadata": {
        "trusted": true,
        "id": "AGxNhXJH3cLC",
        "outputId": "a296295c-2242-41b0-f751-bebc403e0d69"
      },
      "execution_count": null,
      "outputs": [
        {
          "execution_count": 3,
          "output_type": "execute_result",
          "data": {
            "text/plain": "[8, 64, 512]"
          },
          "metadata": {}
        }
      ]
    },
    {
      "cell_type": "code",
      "source": [
        "# Exercício 2 - Reescreva o código abaixo, usando a função map(). O resultado final deve ser o mesmo!\n",
        "palavras = 'A Data Science Academy oferce os melhores cursos de análise de dados do Brasil'.split()\n",
        "resultado = [[w.upper(), w.lower(), len(w)] for w in palavras]\n",
        "for i in resultado:\n",
        "    print (i)"
      ],
      "metadata": {
        "trusted": true,
        "id": "zpBaGFKm3cLF"
      },
      "execution_count": null,
      "outputs": []
    },
    {
      "cell_type": "code",
      "source": [
        "def resu(letra):\n",
        "    resultado = [letra.upper(), letra.lower(), len(letra)] \n",
        "    return resultado\n",
        "    \n",
        "resultado = list(map(resu,palavras))\n",
        "resultado"
      ],
      "metadata": {
        "trusted": true,
        "id": "yBt4qxBJ3cLG",
        "outputId": "2b8f69d1-032b-4056-eefa-35ca0285fa90"
      },
      "execution_count": null,
      "outputs": [
        {
          "execution_count": 13,
          "output_type": "execute_result",
          "data": {
            "text/plain": "[['A', 'a', 1],\n ['DATA', 'data', 4],\n ['SCIENCE', 'science', 7],\n ['ACADEMY', 'academy', 7],\n ['OFERCE', 'oferce', 6],\n ['OS', 'os', 2],\n ['MELHORES', 'melhores', 8],\n ['CURSOS', 'cursos', 6],\n ['DE', 'de', 2],\n ['ANÁLISE', 'análise', 7],\n ['DE', 'de', 2],\n ['DADOS', 'dados', 5],\n ['DO', 'do', 2],\n ['BRASIL', 'brasil', 6]]"
          },
          "metadata": {}
        }
      ]
    },
    {
      "cell_type": "code",
      "source": [
        "# Exercício 3 - Calcule a matriz transposta da matriz abaixo.\n",
        "# Caso não saiba o que é matriz transposta, visite este link: https://pt.wikipedia.org/wiki/Matriz_transposta\n",
        "# Matriz transposta é um conceito fundamental na construção de redes neurais artificiais, base de sistemas de IA.\n",
        "matrix = [[1, 2],[3,4],[5,6],[7,8]]\n",
        "matrixT = [[],[]]\n",
        "\n",
        "for c in range(0, len(matrix)):\n",
        "  if c == 0:\n",
        "    matrixT[0].append(matrix[0][0])\n",
        "    matrixT[1].append(matrix[0][1])\n",
        "  else:\n",
        "    matrixT[0].append(matrix[c][0])\n",
        "    matrixT[1].append(matrix[c][1])\n",
        "  \n",
        "matrixT\n",
        "# or [row[x] for row in matrix] for x in range(2)].\n"
      ],
      "metadata": {
        "trusted": true,
        "colab": {
          "base_uri": "https://localhost:8080/"
        },
        "id": "7K5Y9Lhw3cLH",
        "outputId": "2e1949ff-8219-4fa3-c066-b71c1d41f843"
      },
      "execution_count": null,
      "outputs": [
        {
          "output_type": "execute_result",
          "data": {
            "text/plain": [
              "[[1, 3, 5, 7], [2, 4, 6, 8]]"
            ]
          },
          "metadata": {},
          "execution_count": 39
        }
      ]
    },
    {
      "cell_type": "code",
      "source": [
        "# Exercício 4 - Crie duas funções, uma para elevar um número ao quadrado e outra para elevar ao cubo. \n",
        "# Aplique as duas funções aos elementos da lista abaixo. \n",
        "# Obs: as duas funções devem ser aplicadas simultaneamente.\n",
        "lista = [0, 1, 2, 3, 4]\n",
        "\n",
        "quad = lambda x: x**2\n",
        "cubo = lambda x: x**3\n",
        "\n",
        "tudo = [quad, cubo]\n",
        "\n",
        "for c in lista:\n",
        "  print(list(map(lambda n: n(c) , tudo)))\n"
      ],
      "metadata": {
        "id": "BFITxb_46w41",
        "colab": {
          "base_uri": "https://localhost:8080/"
        },
        "outputId": "8c7dd412-cb22-4455-d90d-db4022ad49b3"
      },
      "execution_count": 72,
      "outputs": [
        {
          "output_type": "stream",
          "name": "stdout",
          "text": [
            "[0, 0]\n",
            "[1, 1]\n",
            "[4, 8]\n",
            "[9, 27]\n",
            "[16, 64]\n"
          ]
        }
      ]
    },
    {
      "cell_type": "code",
      "source": [
        "# Exercício 5 - Abaixo você encontra duas listas. Faça com que cada elemento da listaA seja elevado \n",
        "# ao elemento correspondente na listaB.\n",
        "listaA = [2, 3, 4]\n",
        "listaB = [10, 11, 12]\n",
        "\n",
        "[x**listaB[listaA.index(x)] for x in listaA ]\n"
      ],
      "metadata": {
        "colab": {
          "base_uri": "https://localhost:8080/"
        },
        "id": "MMZLr1cark9D",
        "outputId": "99ae1ee6-5d5b-415a-cb95-4f47708ba986"
      },
      "execution_count": 35,
      "outputs": [
        {
          "output_type": "execute_result",
          "data": {
            "text/plain": [
              "[1024, 177147, 16777216]"
            ]
          },
          "metadata": {},
          "execution_count": 35
        }
      ]
    },
    {
      "cell_type": "code",
      "source": [
        "# Exercício 6 - Considerando o range de valores abaixo, use a função filter() para retornar apenas os valores negativos.\n",
        "a = range(-5, 5)\n",
        "\n",
        "list(filter(lambda x: x % 2 != 0, a))"
      ],
      "metadata": {
        "colab": {
          "base_uri": "https://localhost:8080/"
        },
        "id": "uq2sLGXtuXqZ",
        "outputId": "b3092346-09ad-493c-d6c2-43d2b495a426"
      },
      "execution_count": 44,
      "outputs": [
        {
          "output_type": "execute_result",
          "data": {
            "text/plain": [
              "[-5, -3, -1, 1, 3]"
            ]
          },
          "metadata": {},
          "execution_count": 44
        }
      ]
    },
    {
      "cell_type": "code",
      "source": [
        "# Exercício 7 - Usando a função filter(), encontre os valores que são comuns às duas listas abaixo.\n",
        "from functools import reduce\n",
        "a = [1,2,3,5,7,9]\n",
        "b = [2,3,5,6,7,8]\n",
        "\n",
        "list(filter(lambda c: c in a, b))\n"
      ],
      "metadata": {
        "colab": {
          "base_uri": "https://localhost:8080/"
        },
        "id": "ZMXp2DA9vTXX",
        "outputId": "8426c1d7-1a2d-421a-e189-7213bdeb262e"
      },
      "execution_count": 65,
      "outputs": [
        {
          "output_type": "execute_result",
          "data": {
            "text/plain": [
              "[2, 3, 5, 7]"
            ]
          },
          "metadata": {},
          "execution_count": 65
        }
      ]
    },
    {
      "cell_type": "code",
      "source": [
        "# Exercício 8 - Considere o código abaixo. Obtenha o mesmo resultado usando o pacote time. \n",
        "# Não conhece o pacote time? Pesquise!\n",
        "import datetime\n",
        "print (datetime.datetime.now().strftime(\"%d/%m/%Y %H:%M\"))"
      ],
      "metadata": {
        "colab": {
          "base_uri": "https://localhost:8080/"
        },
        "id": "h1DKJIxo2VSt",
        "outputId": "da0a3d38-bd02-43a6-aac2-6bdf583ba541"
      },
      "execution_count": 73,
      "outputs": [
        {
          "output_type": "stream",
          "name": "stdout",
          "text": [
            "22/08/2022 23:18\n"
          ]
        }
      ]
    },
    {
      "cell_type": "code",
      "source": [
        "import time\n",
        "\n",
        "sec = time.time()\n",
        "\n",
        "resul = time.gmtime(sec)\n",
        "resul\n",
        "print(\"{}/{}/{} {}:{}\".format(resul.tm_mday, resul.tm_mon, resul.tm_year, resul.tm_hour, resul.tm_min))\n",
        "\n",
        "# or\n",
        "#print (time.strftime(\"%d/%m/%Y %H:%M\"))"
      ],
      "metadata": {
        "colab": {
          "base_uri": "https://localhost:8080/"
        },
        "id": "Xp8NptxK2skr",
        "outputId": "614c6f99-b4b6-4a5d-bbcb-3421bdbd8b06"
      },
      "execution_count": 90,
      "outputs": [
        {
          "output_type": "stream",
          "name": "stdout",
          "text": [
            "22/8/2022 23:29\n"
          ]
        }
      ]
    },
    {
      "cell_type": "code",
      "source": [
        "# Exercício 9 - Considere os dois dicionários abaixo. \n",
        "# Crie um terceiro dicionário com as chaves do dicionário 1 e os valores do dicionário 2.\n",
        "dict1 = {'a':1,'b':2}\n",
        "dict2 = {'c':4,'d':5}\n",
        "\n",
        "dict3 = list(zip(dict1, dict2.values()))\n",
        "\n",
        "dict3"
      ],
      "metadata": {
        "colab": {
          "base_uri": "https://localhost:8080/"
        },
        "id": "-gFMY8P25DVs",
        "outputId": "f6fe49d0-6a5e-4591-d190-69cd9586d728"
      },
      "execution_count": 94,
      "outputs": [
        {
          "output_type": "execute_result",
          "data": {
            "text/plain": [
              "[('a', 4), ('b', 5)]"
            ]
          },
          "metadata": {},
          "execution_count": 94
        }
      ]
    },
    {
      "cell_type": "code",
      "source": [
        "# Exercício 10 - Considere a lista abaixo e retorne apenas os elementos cujo índice for maior que 5.\n",
        "lista = ['a', 'b', 'c', 'd', 'e', 'f', 'g', 'h']\n",
        "\n",
        "for c in enumerate(lista):\n",
        "  if c[0] > 5:\n",
        "    print(c[1])\n",
        "    \n",
        "# or\n",
        "# for indice, valor in enumerate(lista):\n",
        "#   if indice > 5:\n",
        "#     print(valor)"
      ],
      "metadata": {
        "colab": {
          "base_uri": "https://localhost:8080/"
        },
        "id": "5nMaEMOT5ThS",
        "outputId": "b8aa665a-8606-4d13-a832-ab9320a0c482"
      },
      "execution_count": 103,
      "outputs": [
        {
          "output_type": "stream",
          "name": "stdout",
          "text": [
            "g\n",
            "h\n",
            "g\n",
            "h\n"
          ]
        }
      ]
    },
    {
      "cell_type": "code",
      "source": [
        ""
      ],
      "metadata": {
        "id": "uK5SG_Ij6WcB"
      },
      "execution_count": null,
      "outputs": []
    }
  ]
}
